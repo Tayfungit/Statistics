{
 "cells": [
  {
   "cell_type": "code",
   "execution_count": 1,
   "metadata": {},
   "outputs": [],
   "source": [
    "import numpy as np\n",
    "import pandas as pd\n",
    "from scipy import stats\n",
    "import matplotlib.pyplot as plt"
   ]
  },
  {
   "cell_type": "markdown",
   "metadata": {},
   "source": [
    "EXERCISE 1. Answer the following questions by looking at the distribution table or coding with Python.\n",
    "\n",
    "1. A salesperson has found that the probability of a sale on a single contact is approximately .3. If the salesperson contacts 10 prospects, what is the approximate probability of making at least one sale?"
   ]
  },
  {
   "cell_type": "code",
   "execution_count": 2,
   "metadata": {},
   "outputs": [
    {
     "data": {
      "text/plain": [
       "0.9717524751"
      ]
     },
     "execution_count": 2,
     "metadata": {},
     "output_type": "execute_result"
    }
   ],
   "source": [
    "# Answer: EXERCISE 1.1.\n",
    "\n",
    "1-stats.binom.cdf(0,10,0.3 )"
   ]
  },
  {
   "cell_type": "markdown",
   "metadata": {},
   "source": [
    "2. Ten coins are tossed simultaneously. Find the probability of getting\n",
    "\n",
    "i.      at least seven heads\n",
    "\n",
    "ii.     exactly seven heads\n",
    "\n",
    "iii.    at most seven heads"
   ]
  },
  {
   "cell_type": "code",
   "execution_count": 3,
   "metadata": {},
   "outputs": [
    {
     "data": {
      "text/plain": [
       "0.17187499999999994"
      ]
     },
     "execution_count": 3,
     "metadata": {},
     "output_type": "execute_result"
    }
   ],
   "source": [
    "# Answer: EXERCISE 1.2.i.\n",
    "# P(at least seven heads) = P(7T,3Y) + P(8T,2Y) + P(9T,1Y) + P(10T)\n",
    "\n",
    "stats.binom.pmf(7,10,0.5)+ stats.binom.pmf(8,10,0.5)+ stats.binom.pmf(9,10,0.5)+ stats.binom.pmf(10,10,0.5)"
   ]
  },
  {
   "cell_type": "code",
   "execution_count": 47,
   "metadata": {},
   "outputs": [
    {
     "data": {
      "text/plain": [
       "0.171875"
      ]
     },
     "execution_count": 47,
     "metadata": {},
     "output_type": "execute_result"
    }
   ],
   "source": [
    "# or alternative answer;\n",
    "\n",
    "stats.binom.cdf(3,10,0.5)"
   ]
  },
  {
   "cell_type": "code",
   "execution_count": 31,
   "metadata": {},
   "outputs": [
    {
     "data": {
      "text/plain": [
       "0.11718749999999999"
      ]
     },
     "execution_count": 31,
     "metadata": {},
     "output_type": "execute_result"
    }
   ],
   "source": [
    "# Answer: EXERCISE 1.2.ii.\n",
    "# P(exactly seven heads) = P(7T,3Y)\n",
    "\n",
    "stats.binom.pmf(7,10,0.5)\n"
   ]
  },
  {
   "cell_type": "code",
   "execution_count": 4,
   "metadata": {},
   "outputs": [
    {
     "data": {
      "text/plain": [
       "0.9453125"
      ]
     },
     "execution_count": 4,
     "metadata": {},
     "output_type": "execute_result"
    }
   ],
   "source": [
    "# Answer: EXERCISE 1.2.iii.\n",
    "# P(at most seven heads) = 1 - (P(8T,2Y) + P(9T,1Y) + P(10T))\n",
    "\n",
    "1-(stats.binom.pmf(8,10,0.5)+ stats.binom.pmf(9,10,0.5)+ stats.binom.pmf(10,10,0.5))"
   ]
  },
  {
   "cell_type": "code",
   "execution_count": 5,
   "metadata": {},
   "outputs": [
    {
     "data": {
      "text/plain": [
       "0.9453125"
      ]
     },
     "execution_count": 5,
     "metadata": {},
     "output_type": "execute_result"
    }
   ],
   "source": [
    "# or alternative answer;\n",
    "\n",
    "stats.binom.cdf(7,10,0.5)"
   ]
  },
  {
   "cell_type": "markdown",
   "metadata": {},
   "source": []
  },
  {
   "cell_type": "markdown",
   "metadata": {},
   "source": [
    "EXERCISE 2. The cycle time for trucks hauling concrete to a highway construction site is uniformly distributed over the interval 50 to 70 minutes. What is the probability that the cycle time exceeds 65 minutes  if it is known that the cycle time exceeds 55 minutes?"
   ]
  },
  {
   "cell_type": "markdown",
   "metadata": {},
   "source": [
    "Answer: EXERCISE 2.\n",
    "\n",
    "\n",
    "* In a uniform distribution, the probability is directly proportional to the area of the rectangle;\n",
    "* CT = Cycle Time \n",
    "\n",
    "P(CT>55) = 3/4 = 0.75\n",
    "\n",
    "P(CT>65) = 1/4 = 0.25\n",
    "\n",
    "P(CT>65 ∩ CT>55) = P(CT>65)\n",
    "\n",
    "P(CT>65 | CT>55) = P(CT>65 ∩ CT>55) / P(CT>55) = P(CT>65) / P(CT>55) = 0.25 / 0.75 = 1/3 = 0.3333....=~ 33%"
   ]
  },
  {
   "cell_type": "code",
   "execution_count": 6,
   "metadata": {},
   "outputs": [
    {
     "data": {
      "text/plain": [
       "0.33333333333333337"
      ]
     },
     "execution_count": 6,
     "metadata": {},
     "output_type": "execute_result"
    }
   ],
   "source": [
    "# Alternative answer;\n",
    "\n",
    "stats.uniform.cdf(70,55,15)-stats.uniform.cdf(65,55,15)"
   ]
  },
  {
   "cell_type": "markdown",
   "metadata": {},
   "source": []
  },
  {
   "cell_type": "markdown",
   "metadata": {},
   "source": [
    "EXERCISE 3. The width of bolts of fabric is normally distributed with mean 950 mm (millimeters) and standard deviation 10 mm.\n",
    "\n",
    "1. What is the probability that a randomly chosen bolt has a width of between 947 and 958mm?\n",
    "\n",
    "2. What is the appropriate value for C such that a randomly chosen bolt has a width less than C with probability .8531?"
   ]
  },
  {
   "cell_type": "markdown",
   "metadata": {},
   "source": [
    "Answer: EXERCISE 3.1.\n",
    "\n",
    "* Normally distributed, \n",
    "mu = 950mm, sigma = 10\n",
    "\n",
    "P(947< X < 958) = P((947-mu)/sigma < (X-mu)/sigma < (958-mu)/sigma ) = P((947-950)/10 < Z < (958-950)/10) \n",
    "\n",
    "P(947< X < 958) = P(-0.3 < Z < 0.8)\n",
    "\n",
    "P(947< X < 958) = 1 - P(Z<-0.3) - P(Z>0.8) \n",
    "                 \n",
    "P(947< X < 958) = 1 - 0.3821 - 0.2119 (from table z)\n",
    "\n",
    "P(947< X < 958) = 0.406"
   ]
  },
  {
   "cell_type": "markdown",
   "metadata": {},
   "source": [
    "Answer: EXERCISE 3.2.\n",
    "\n",
    "P(Z < C) = 0.8531\n",
    "\n",
    "P(Z < C) = P((X-mu)/sigma < (C-mu)/sigma) = 0.8531\n",
    "\n",
    "P(Z < C) = P(Z < (C-950)/10) = 0.8531\n",
    "\n",
    "(C-950)/10 = 1.05 (from table z)\n",
    "\n",
    "C -950 = 10.5 \n",
    "\n",
    "C = 960.5 mm"
   ]
  },
  {
   "cell_type": "markdown",
   "metadata": {},
   "source": []
  },
  {
   "cell_type": "markdown",
   "metadata": {},
   "source": [
    "EXERCISE 4. Suppose scores on exams in statistics are normally distributed with an unknown population mean and a population standard deviation of 3 points. A random sample of 36 scores is taken and gives a sample mean (sample mean score) of 68. Find a confidence interval estimate for the population mean exam score (the mean score on all exams). Find a 90% confidence interval for the true (population) mean of statistics exam scores."
   ]
  },
  {
   "cell_type": "code",
   "execution_count": 14,
   "metadata": {},
   "outputs": [
    {
     "data": {
      "text/plain": [
       "(67.17757318652427, 68.82242681347573)"
      ]
     },
     "execution_count": 14,
     "metadata": {},
     "output_type": "execute_result"
    }
   ],
   "source": [
    "# Answer: EXERCISE 4.\n",
    "\n",
    "stats.norm.interval(0.90,68,0.5)"
   ]
  },
  {
   "cell_type": "markdown",
   "metadata": {},
   "source": [
    "The 90% confidence interval is (67.17757318652427, 68.82242681347573)"
   ]
  },
  {
   "cell_type": "markdown",
   "metadata": {},
   "source": []
  },
  {
   "cell_type": "markdown",
   "metadata": {},
   "source": [
    "EXERCISE 5.  What is the normal body temperature for healthy humans? A random sample of 130 healthy human body temperatures provided by Allen Shoemaker yielded 98.25 degrees and standard deviation 0.73 degrees.\n",
    "\n",
    "1. Give a 99% confidence interval for the average body temperature of healthy people.\n",
    "\n",
    "2. Does the confidence interval obtained in part (a) contain the value 98.6 degrees, the accepted average temperature cited by physicians and others? What conclusions can you draw?"
   ]
  },
  {
   "cell_type": "code",
   "execution_count": 7,
   "metadata": {},
   "outputs": [
    {
     "data": {
      "text/plain": [
       "(98.08508192249006, 98.41491807750994)"
      ]
     },
     "execution_count": 7,
     "metadata": {},
     "output_type": "execute_result"
    }
   ],
   "source": [
    "# Answer: EXERCISE 5.1.\n",
    "\n",
    "stats.norm.interval(0.99 ,98.25,0.0640252354)"
   ]
  },
  {
   "cell_type": "markdown",
   "metadata": {},
   "source": [
    "Answer: EXERCISE 5.2.\n",
    "\n",
    "It is outside the range of 98.6 degrees and is in the 0.5% area, so we can claim that the average temperature for healthy people is different from 98.6 degrees."
   ]
  }
 ],
 "metadata": {
  "interpreter": {
   "hash": "b2a40fe9a0b5045c1bfad53841e4bfc468d7ec089fdf16473421afc517ea8f8d"
  },
  "kernelspec": {
   "display_name": "Python 3.10.0 64-bit",
   "language": "python",
   "name": "python3"
  },
  "language_info": {
   "codemirror_mode": {
    "name": "ipython",
    "version": 3
   },
   "file_extension": ".py",
   "mimetype": "text/x-python",
   "name": "python",
   "nbconvert_exporter": "python",
   "pygments_lexer": "ipython3",
   "version": "3.10.0"
  },
  "orig_nbformat": 4
 },
 "nbformat": 4,
 "nbformat_minor": 2
}
